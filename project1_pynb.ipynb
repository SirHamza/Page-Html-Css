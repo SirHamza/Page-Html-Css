{
  "nbformat": 4,
  "nbformat_minor": 0,
  "metadata": {
    "colab": {
      "provenance": [],
      "toc_visible": true,
      "authorship_tag": "ABX9TyN3+VGh8YDSXDGaQMCav0hf",
      "include_colab_link": true
    },
    "kernelspec": {
      "name": "python3",
      "display_name": "Python 3"
    },
    "language_info": {
      "name": "python"
    }
  },
  "cells": [
    {
      "cell_type": "markdown",
      "metadata": {
        "id": "view-in-github",
        "colab_type": "text"
      },
      "source": [
        "<a href=\"https://colab.research.google.com/github/SirHamza/Page-Html-Css/blob/main/project1_pynb.ipynb\" target=\"_parent\"><img src=\"https://colab.research.google.com/assets/colab-badge.svg\" alt=\"Open In Colab\"/></a>"
      ]
    },
    {
      "cell_type": "code",
      "execution_count": null,
      "metadata": {
        "id": "T7MGtKKgrE0c"
      },
      "outputs": [],
      "source": [
        "!pip install -U -q \"google-generativeai>=0.7.2\""
      ]
    },
    {
      "cell_type": "code",
      "source": [
        "import google.generativeai as genai"
      ],
      "metadata": {
        "id": "qaZzVU9nrhRs"
      },
      "execution_count": null,
      "outputs": []
    },
    {
      "cell_type": "code",
      "source": [
        "from google.colab import userdata\n",
        "GOOGLE_API_KEY=userdata.get('GOOGLE_API_KEY')\n",
        "genai.configure(api_key=GOOGLE_API_KEY)"
      ],
      "metadata": {
        "id": "YCsfJ6hIrjaV"
      },
      "execution_count": null,
      "outputs": []
    },
    {
      "cell_type": "code",
      "source": [
        "model = genai.GenerativeModel('gemini-1.5-flash')\n",
        "response = model.generate_content(\"Give me python code to sort a list\")\n",
        "print(response.text)"
      ],
      "metadata": {
        "colab": {
          "base_uri": "https://localhost:8080/",
          "height": 876
        },
        "id": "azodrEM1rzOS",
        "outputId": "75d0144c-18ea-4ad2-e50b-d80babed6b29"
      },
      "execution_count": null,
      "outputs": [
        {
          "output_type": "stream",
          "name": "stdout",
          "text": [
            "Python offers several ways to sort a list. Here are a few examples, demonstrating different approaches and use cases:\n",
            "\n",
            "**1. Using the `list.sort()` method (in-place sorting):**\n",
            "\n",
            "This method modifies the original list directly.  It's efficient for large lists because it doesn't create a new list.\n",
            "\n",
            "```python\n",
            "my_list = [3, 1, 4, 1, 5, 9, 2, 6]\n",
            "my_list.sort()  # Sorts in ascending order\n",
            "print(my_list)  # Output: [1, 1, 2, 3, 4, 5, 6, 9]\n",
            "\n",
            "my_list.sort(reverse=True)  # Sorts in descending order\n",
            "print(my_list)  # Output: [9, 6, 5, 4, 3, 2, 1, 1]\n",
            "```\n",
            "\n",
            "**2. Using the `sorted()` function (creates a new sorted list):**\n",
            "\n",
            "This function returns a *new* sorted list, leaving the original list unchanged.  This is useful when you need to preserve the original order.\n",
            "\n",
            "```python\n",
            "my_list = [3, 1, 4, 1, 5, 9, 2, 6]\n",
            "sorted_list = sorted(my_list)\n",
            "print(my_list)      # Output: [3, 1, 4, 1, 5, 9, 2, 6] (original list unchanged)\n",
            "print(sorted_list)  # Output: [1, 1, 2, 3, 4, 5, 6, 9] (new sorted list)\n",
            "\n",
            "sorted_list_desc = sorted(my_list, reverse=True)\n",
            "print(sorted_list_desc) # Output: [9, 6, 5, 4, 3, 2, 1, 1]\n",
            "```\n",
            "\n",
            "**3. Sorting with a custom key function:**\n",
            "\n",
            "This allows you to sort based on a specific criterion, rather than just the default numerical or alphabetical order. For example, to sort a list of strings by length:\n",
            "\n",
            "```python\n",
            "words = [\"apple\", \"banana\", \"kiwi\", \"pear\"]\n",
            "sorted_words = sorted(words, key=len)  # Sort by length of string\n",
            "print(sorted_words)  # Output: ['kiwi', 'pear', 'apple', 'banana']\n",
            "\n",
            "# Sort a list of tuples by the second element:\n",
            "data = [(1, 5), (3, 1), (2, 8)]\n",
            "sorted_data = sorted(data, key=lambda x: x[1])\n",
            "print(sorted_data) # Output: [(3, 1), (1, 5), (2, 8)]\n",
            "```\n",
            "\n",
            "Remember to choose the method that best suits your needs.  If you need to modify the list in place, use `list.sort()`. If you need to keep the original list intact, use `sorted()`.  The `key` argument provides powerful customization for sorting based on complex criteria.\n",
            "\n"
          ]
        }
      ]
    },
    {
      "cell_type": "code",
      "source": [
        "!pip install -Uq langchain langchain-google-genai"
      ],
      "metadata": {
        "colab": {
          "base_uri": "https://localhost:8080/"
        },
        "id": "WRrtNHoNr-Dv",
        "outputId": "efd0e790-13ff-445e-abe1-3f510afce7f4"
      },
      "execution_count": null,
      "outputs": [
        {
          "output_type": "stream",
          "name": "stdout",
          "text": [
            "\u001b[2K   \u001b[90m━━━━━━━━━━━━━━━━━━━━━━━━━━━━━━━━━━━━━━━━\u001b[0m \u001b[32m1.0/1.0 MB\u001b[0m \u001b[31m11.1 MB/s\u001b[0m eta \u001b[36m0:00:00\u001b[0m\n",
            "\u001b[2K   \u001b[90m━━━━━━━━━━━━━━━━━━━━━━━━━━━━━━━━━━━━━━━━\u001b[0m \u001b[32m41.3/41.3 kB\u001b[0m \u001b[31m2.9 MB/s\u001b[0m eta \u001b[36m0:00:00\u001b[0m\n",
            "\u001b[2K   \u001b[90m━━━━━━━━━━━━━━━━━━━━━━━━━━━━━━━━━━━━━━━━\u001b[0m \u001b[32m411.6/411.6 kB\u001b[0m \u001b[31m31.0 MB/s\u001b[0m eta \u001b[36m0:00:00\u001b[0m\n",
            "\u001b[?25h"
          ]
        }
      ]
    },
    {
      "cell_type": "code",
      "source": [
        "from langchain_google_genai import ChatGoogleGenerativeAI"
      ],
      "metadata": {
        "id": "x5ojiEVxuaU1"
      },
      "execution_count": null,
      "outputs": []
    },
    {
      "cell_type": "code",
      "source": [
        "llm: ChatGoogleGenerativeAI = ChatGoogleGenerativeAI(\n",
        "    model = \"gemini-2.0-flash-exp\",\n",
        "    api_key = userdata.get('GOOGLE_API_KEY')\n",
        ")"
      ],
      "metadata": {
        "id": "XvQDSyP5vDEz"
      },
      "execution_count": null,
      "outputs": []
    },
    {
      "cell_type": "code",
      "source": [
        "response = llm.invoke(\"Capital of Pakistan\")\n",
        "print(response)"
      ],
      "metadata": {
        "colab": {
          "base_uri": "https://localhost:8080/"
        },
        "id": "JxSfh3DBxWgl",
        "outputId": "78c85b73-910e-4f67-e821-7e409a41a007"
      },
      "execution_count": null,
      "outputs": [
        {
          "output_type": "stream",
          "name": "stdout",
          "text": [
            "content='The capital of Pakistan is **Islamabad**.\\n' additional_kwargs={} response_metadata={'prompt_feedback': {'block_reason': 0, 'safety_ratings': []}, 'finish_reason': 'STOP', 'safety_ratings': [{'category': 'HARM_CATEGORY_HATE_SPEECH', 'probability': 'NEGLIGIBLE', 'blocked': False}, {'category': 'HARM_CATEGORY_DANGEROUS_CONTENT', 'probability': 'NEGLIGIBLE', 'blocked': False}, {'category': 'HARM_CATEGORY_HARASSMENT', 'probability': 'NEGLIGIBLE', 'blocked': False}, {'category': 'HARM_CATEGORY_SEXUALLY_EXPLICIT', 'probability': 'NEGLIGIBLE', 'blocked': False}]} id='run-31f78e36-dfa9-440c-b64c-ffad0b06b277-0' usage_metadata={'input_tokens': 4, 'output_tokens': 10, 'total_tokens': 14, 'input_token_details': {'cache_read': 0}}\n"
          ]
        }
      ]
    },
    {
      "cell_type": "code",
      "source": [
        "response.content"
      ],
      "metadata": {
        "colab": {
          "base_uri": "https://localhost:8080/",
          "height": 36
        },
        "id": "5xrk_rJLxy-d",
        "outputId": "a7ec8378-e230-4faa-ef05-00535a21073f"
      },
      "execution_count": null,
      "outputs": [
        {
          "output_type": "execute_result",
          "data": {
            "text/plain": [
              "'The capital of Pakistan is **Islamabad**.\\n'"
            ],
            "application/vnd.google.colaboratory.intrinsic+json": {
              "type": "string"
            }
          },
          "metadata": {},
          "execution_count": 10
        }
      ]
    }
  ]
}